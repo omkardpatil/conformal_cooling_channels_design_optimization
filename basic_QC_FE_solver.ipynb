{
  "nbformat": 4,
  "nbformat_minor": 0,
  "metadata": {
    "colab": {
      "provenance": [],
      "authorship_tag": "ABX9TyODTWhpznL7wZYFyqeHu2/0",
      "include_colab_link": true
    },
    "kernelspec": {
      "name": "python3",
      "display_name": "Python 3"
    },
    "language_info": {
      "name": "python"
    }
  },
  "cells": [
    {
      "cell_type": "markdown",
      "metadata": {
        "id": "view-in-github",
        "colab_type": "text"
      },
      "source": [
        "<a href=\"https://colab.research.google.com/github/omkardpatil/conformal_cooling_channels_design_optimization/blob/main/basic_QC_FE_solver.ipynb\" target=\"_parent\"><img src=\"https://colab.research.google.com/assets/colab-badge.svg\" alt=\"Open In Colab\"/></a>"
      ]
    },
    {
      "cell_type": "code",
      "source": [
        "from IPython.display import clear_output\n",
        "try:\n",
        "    import dolfin\n",
        "except ImportError:\n",
        "    !wget \"https://fem-on-colab.github.io/releases/fenics-install.sh\" -O \"/tmp/fenics-install.sh\" && bash \"/tmp/fenics-install.sh\"\n",
        "    import dolfin\n",
        "import fenics\n",
        "from fenics import *\n",
        "from mshr import *\n",
        "from math import *\n",
        "clear_output()"
      ],
      "metadata": {
        "id": "ovuSJB6Ayx2Q"
      },
      "execution_count": null,
      "outputs": []
    },
    {
      "cell_type": "markdown",
      "source": [
        "## Support functions"
      ],
      "metadata": {
        "id": "YTa6pa5Mr-YU"
      }
    },
    {
      "cell_type": "code",
      "source": [
        "def work(mesh, u, temp_threshold_for_fitness):\n",
        "  # Define your mesh and function space\n",
        "  V = FunctionSpace ( mesh, \"Lagrange\", 1 )\n",
        "\n",
        "  # Create a function to interpolate 'u' to the function space\n",
        "  u_interpolated = interpolate(u, V)\n",
        "\n",
        "  # Get the values of 'u' at all nodes\n",
        "  u_values = u_interpolated.vector().get_local()\n",
        "  np_u = np.array(u_values)\n",
        "  # Use np.ceil to round up each element to the nearest integer\n",
        "  integer_array = np.ceil(np_u).astype(int)\n",
        "  unique_elements, counts = np.unique(integer_array, return_counts=True)\n",
        "  element_count_dict = dict(zip(unique_elements, counts))\n",
        "  fitness=0\n",
        "  for i, j in element_count_dict.items():\n",
        "      r=i-temp_threshold_for_fitness\n",
        "      if(r>0):\n",
        "          fitness+=(j*j*r)\n",
        "  return fitness"
      ],
      "metadata": {
        "id": "dlm7DpR3rlw-"
      },
      "execution_count": null,
      "outputs": []
    },
    {
      "cell_type": "code",
      "source": [
        "def generate_mesh_here(circle, mesh_res):\n",
        "  circle_x,circle_y,circle_r = circle\n",
        "  domain = Circle(Point(0.0,0.0),1.0) -Rectangle(Point(-2.0,-2.0), Point(2.0,0.0))-Rectangle(Point(-2.0,0.0), Point(0.0,2.0))\\\n",
        "          - Circle(Point(circle_x,circle_y),circle_r)\n",
        "  mesh = generate_mesh ( domain, mesh_res )\n",
        "  return mesh"
      ],
      "metadata": {
        "id": "GG1yD6KUr40X"
      },
      "execution_count": null,
      "outputs": []
    },
    {
      "cell_type": "markdown",
      "source": [
        "## Fenics solver"
      ],
      "metadata": {
        "id": "Wk5RLJxCsDaH"
      }
    },
    {
      "cell_type": "code",
      "source": [
        "from fenics import *\n",
        "from mshr import *\n",
        "from math import *\n",
        "import os\n",
        "import numpy as np\n",
        "import time\n",
        "import matplotlib.pyplot as plt\n",
        "from matplotlib.colors import SymLogNorm\n",
        "\n",
        "\n",
        "\n",
        "T_hot_edge = 150\n",
        "T_cold_circle = 20\n",
        "T_body_init = 40\n",
        "point = (0.4,0.1)\n",
        "threshold_dis = 0.02\n",
        "temp_threshold_for_fitness=25\n",
        "temp_threshold_for_stopping=30\n",
        "mesh_res=20\n",
        "t0=0.5 #time for which hot plastic will be in contact\n",
        "#  Define time things\n",
        "t_init = 0.0\n",
        "t_final = 3.0\n",
        "t_num = 300\n",
        "\n",
        "u_origin=[]\n",
        "\n",
        "def heat_implicit (circle, folder_name):\n",
        "  circle_x,circle_y,circle_r = circle\n",
        "  if not os.path.exists(folder_name):\n",
        "    os.makedirs(folder_name)\n",
        "\n",
        "  mesh  = generate_mesh_here(circle, mesh_res)\n",
        "  plot ( mesh, title = 'heat_implicit Mesh' )\n",
        "\n",
        "  filename =  folder_name+'heat_implicit_mesh.png'\n",
        "  plt.savefig ( filename )\n",
        "  plt.close ()\n",
        "\n",
        "  V = FunctionSpace ( mesh, \"Lagrange\", 1 )\n",
        "\n",
        "  rect_u = T_hot_edge #150.0\n",
        "  def outer_circle_on ( x, on_boundary ):\n",
        "    return 1-(x[0]**2+x[1]**2)<threshold_dis #x[0]+x[1]>1\n",
        "\n",
        "  rect_bc = DirichletBC ( V, rect_u, outer_circle_on )\n",
        "\n",
        "  circle_u = T_cold_circle#20.0\n",
        "  def inner_circle_on ( x, on_boundary ):\n",
        "    r = sqrt ( ( x[0] - circle_x ) ** 2 + ( x[1] - circle_y ) ** 2 )\n",
        "    return abs(circle_r-r)< threshold_dis\n",
        "\n",
        "  circle_bc = DirichletBC ( V, circle_u, inner_circle_on )\n",
        "  bc = [ rect_bc, circle_bc ]\n",
        "  bc_new = [circle_bc]\n",
        "\n",
        "#  Define the trial functions (u) and test functions (v).\n",
        "  u = TrialFunction ( V )\n",
        "  v = TestFunction ( V )\n",
        "\n",
        "\n",
        "#  The diffusivity is a constant.\n",
        "  k = Constant ( 1.0 )\n",
        "#  The source term is zero.\n",
        "  f = Constant ( 0.0 )\n",
        "  dt = ( t_final - t_init ) / t_num\n",
        "\n",
        "#  Create U_INIT.\n",
        "  u_init = Expression ( str(T_body_init), degree = 10 )\n",
        "  u_old = interpolate ( u_init, V )\n",
        "  fvt = ( u_old + dt * f ) * v * dx\n",
        "  Auvt = u * v * dx + dt * dot ( grad(u), grad(v) ) * dx\n",
        "  u = Function ( V )\n",
        "  t = t_init\n",
        "\n",
        "  v_min=20\n",
        "  v_max=100\n",
        "  for j in range ( 0, t_num + 1):\n",
        "    if ( j % 2 == 0 ):\n",
        "      label = 'Time = %g' % ( t )\n",
        "      #########################################################################################################\n",
        "      min_value = circle_u\n",
        "      max_value = rect_u\n",
        "      mappable = plot( u_old, title = label ,cmap='viridis', norm=SymLogNorm(linthresh=0.03, linscale=0.03, vmin=v_min, vmax=v_max))\n",
        "      cbar = plt.colorbar(mappable)\n",
        "      filename = folder_name+'heat_implicit_solution_%d.png' % ( j )\n",
        "      plt.savefig ( filename )\n",
        "      plt.close()\n",
        "    t = t + dt\n",
        "    if(t>t0):\n",
        "      bc=bc_new\n",
        "    solve ( Auvt == fvt, u, bc )\n",
        "    u_old.assign ( u )\n",
        "    max_value= u.vector().max()\n",
        "    if(max_value<temp_threshold_for_stopping):\n",
        "      fitness1 = work(mesh, u, temp_threshold_for_fitness)\n",
        "      fitness2 = exp(t)\n",
        "      return fitness1*fitness2\n",
        "  fitness1 = work(mesh, u, temp_threshold_for_fitness)\n",
        "  fitness2 = exp(t)\n",
        "  return fitness1*fitness2\n",
        "\n",
        "def heat_implicit_test (circle,folder_name):\n",
        "  level = 30\n",
        "  set_log_level ( level )\n",
        "  return heat_implicit(circle,folder_name)"
      ],
      "metadata": {
        "id": "g7-DpnVCE4KB"
      },
      "execution_count": null,
      "outputs": []
    },
    {
      "cell_type": "code",
      "source": [
        "folder_name='results1/'\n",
        "circle_x = 0.4\n",
        "circle_y = 0.4\n",
        "circle_r = 0.1\n",
        "circle = [circle_x,circle_y,circle_r]\n",
        "Optimal_Solution =  [0.5703969581679545, 0.6, 0.1158924382356333]\n",
        "circle =Optimal_Solution\n",
        "ans =heat_implicit_test (circle,folder_name=folder_name)\n",
        "clear_output()\n",
        "print(ans)"
      ],
      "metadata": {
        "colab": {
          "base_uri": "https://localhost:8080/"
        },
        "id": "9XQTRpb68KtE",
        "outputId": "20cf2940-8f9d-433b-e06d-192b92ce3e7c"
      },
      "execution_count": null,
      "outputs": [
        {
          "output_type": "stream",
          "name": "stdout",
          "text": [
            "791224.5700409901\n"
          ]
        }
      ]
    },
    {
      "cell_type": "code",
      "source": [
        "!zip -r /content/myfolder1.zip /content/results1\n",
        "clear_output()"
      ],
      "metadata": {
        "id": "uRrbjvhMMO49"
      },
      "execution_count": null,
      "outputs": []
    },
    {
      "cell_type": "code",
      "source": [],
      "metadata": {
        "id": "JSwi5RGMSl9P"
      },
      "execution_count": null,
      "outputs": []
    }
  ]
}
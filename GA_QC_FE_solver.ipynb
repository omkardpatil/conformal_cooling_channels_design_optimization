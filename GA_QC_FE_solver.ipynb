{
  "cells": [
    {
      "cell_type": "markdown",
      "metadata": {
        "id": "view-in-github",
        "colab_type": "text"
      },
      "source": [
        "<a href=\"https://colab.research.google.com/github/omkardpatil/conformal_cooling_channels_design_optimization/blob/main/GA_QC_FE_solver.ipynb\" target=\"_parent\"><img src=\"https://colab.research.google.com/assets/colab-badge.svg\" alt=\"Open In Colab\"/></a>"
      ]
    },
    {
      "cell_type": "code",
      "execution_count": null,
      "metadata": {
        "id": "ovuSJB6Ayx2Q"
      },
      "outputs": [],
      "source": [
        "from IPython.display import clear_output\n",
        "try:\n",
        "    import dolfin\n",
        "except ImportError:\n",
        "    !wget \"https://fem-on-colab.github.io/releases/fenics-install.sh\" -O \"/tmp/fenics-install.sh\" && bash \"/tmp/fenics-install.sh\"\n",
        "    import dolfin\n",
        "import fenics\n",
        "clear_output()"
      ]
    },
    {
      "cell_type": "code",
      "source": [
        "def work(mesh, u, temp_threshold_for_fitness):\n",
        "  # Define your mesh and function space\n",
        "  V = FunctionSpace ( mesh, \"Lagrange\", 1 )\n",
        "\n",
        "  # Create a function to interpolate 'u' to the function space\n",
        "  u_interpolated = interpolate(u, V)\n",
        "\n",
        "  # Get the values of 'u' at all nodes\n",
        "  u_values = u_interpolated.vector().get_local()\n",
        "  np_u = np.array(u_values)\n",
        "  # Use np.ceil to round up each element to the nearest integer\n",
        "  integer_array = np.ceil(np_u).astype(int)\n",
        "  unique_elements, counts = np.unique(integer_array, return_counts=True)\n",
        "  element_count_dict = dict(zip(unique_elements, counts))\n",
        "  fitness=0\n",
        "  for i, j in element_count_dict.items():\n",
        "      r=i-temp_threshold_for_fitness\n",
        "      if(r>0):\n",
        "          fitness+=(j*j*r)\n",
        "  return fitness"
      ],
      "metadata": {
        "id": "g2_eyCO98WGi"
      },
      "execution_count": null,
      "outputs": []
    },
    {
      "cell_type": "code",
      "source": [
        "def generate_mesh_here(circle, mesh_res):\n",
        "  circle_x,circle_y,circle_r = circle\n",
        "  domain = Circle(Point(0.0,0.0),1.0) -Rectangle(Point(-2.0,-2.0), Point(2.0,0.0))-Rectangle(Point(-2.0,0.0), Point(0.0,2.0))\\\n",
        "          - Circle(Point(circle_x,circle_y),circle_r)\n",
        "  mesh = generate_mesh ( domain, mesh_res )\n",
        "  return mesh"
      ],
      "metadata": {
        "id": "k6dNa-fD8ZQC"
      },
      "execution_count": null,
      "outputs": []
    },
    {
      "cell_type": "code",
      "source": [
        "from fenics import *\n",
        "from mshr import *\n",
        "from math import *\n",
        "import os\n",
        "import numpy as np\n",
        "import time\n",
        "import matplotlib.pyplot as plt\n",
        "from matplotlib.colors import SymLogNorm\n",
        "\n",
        "\n",
        "\n",
        "T_hot_edge = 150\n",
        "T_cold_circle = 20\n",
        "T_body_init = 40\n",
        "point = (0.4,0.1)\n",
        "threshold_dis = 0.02\n",
        "temp_threshold_for_fitness=25\n",
        "temp_threshold_for_stopping=35\n",
        "mesh_res=20\n",
        "t0=0.3 #time for which hot plastic will be in contact\n",
        "#  Define time things\n",
        "t_init = 0.0\n",
        "t_final = 2.0\n",
        "t_num = 20\n",
        "\n",
        "u_origin=[]\n",
        "\n",
        "def heat_implicit (circle):\n",
        "  mesh  = generate_mesh_here(circle, mesh_res)\n",
        "\n",
        "  V = FunctionSpace ( mesh, \"Lagrange\", 1 )\n",
        "\n",
        "  rect_u = T_hot_edge #150.0\n",
        "  def outer_circle_on ( x, on_boundary ):\n",
        "    return 1-(x[0]**2+x[1]**2)<threshold_dis #x[0]+x[1]>1\n",
        "\n",
        "  rect_bc = DirichletBC ( V, rect_u, outer_circle_on )\n",
        "\n",
        "  circle_u = T_cold_circle#20.0\n",
        "  def inner_circle_on ( x, on_boundary ):\n",
        "    r = sqrt ( ( x[0] - circle_x ) ** 2 + ( x[1] - circle_y ) ** 2 )\n",
        "    return abs(circle_r-r)< threshold_dis\n",
        "\n",
        "  circle_bc = DirichletBC ( V, circle_u, inner_circle_on )\n",
        "  bc = [ rect_bc, circle_bc ]\n",
        "  bc_new = [circle_bc]\n",
        "\n",
        "#  Define the trial functions (u) and test functions (v).\n",
        "  u = TrialFunction ( V )\n",
        "  v = TestFunction ( V )\n",
        "\n",
        "\n",
        "#  The diffusivity is a constant.\n",
        "  k = Constant ( 1.0 )\n",
        "#  The source term is zero.\n",
        "  f = Constant ( 0.0 )\n",
        "  dt = ( t_final - t_init ) / t_num\n",
        "\n",
        "#  Create U_INIT.\n",
        "  u_init = Expression ( str(T_body_init), degree = 10 )\n",
        "  u_old = interpolate ( u_init, V )\n",
        "  fvt = ( u_old + dt * f ) * v * dx\n",
        "  Auvt = u * v * dx + dt * dot ( grad(u), grad(v) ) * dx\n",
        "  u = Function ( V )\n",
        "  t = t_init\n",
        "\n",
        "  v_min=20\n",
        "  v_max=100\n",
        "  for j in range ( 0, t_num + 1):\n",
        "    t = t + dt\n",
        "    if(t>t0):\n",
        "      bc=bc_new\n",
        "    solve ( Auvt == fvt, u, bc )\n",
        "    u_old.assign ( u )\n",
        "    max_value= u.vector().max()\n",
        "    if(max_value<temp_threshold_for_stopping):\n",
        "      fitness1 = work(mesh, u, temp_threshold_for_fitness)\n",
        "      fitness2 = exp(3)\n",
        "      return fitness1*fitness2\n",
        "  fitness1 = work(mesh, u, temp_threshold_for_fitness)\n",
        "  fitness2 = exp(3)\n",
        "  return fitness1*fitness2\n",
        "\n",
        "def heat_implicit_test (circle):\n",
        "  level = 30\n",
        "  set_log_level ( level )\n",
        "  return heat_implicit(circle)"
      ],
      "metadata": {
        "id": "cp5Z62Do8bdK"
      },
      "execution_count": null,
      "outputs": []
    },
    {
      "cell_type": "code",
      "source": [
        "#test\n",
        "circle_x = 0.4\n",
        "circle_y = 0.4\n",
        "circle_r = 0.1\n",
        "circle = [circle_x,circle_y,circle_r]\n",
        "ans =heat_implicit_test (circle)\n",
        "clear_output()\n",
        "print(ans)"
      ],
      "metadata": {
        "colab": {
          "base_uri": "https://localhost:8080/"
        },
        "id": "rwXKmzea8oGy",
        "outputId": "800c9976-200c-4ef9-9bad-ced0df123b90"
      },
      "execution_count": null,
      "outputs": [
        {
          "output_type": "stream",
          "name": "stdout",
          "text": [
            "7361128.341442125\n"
          ]
        }
      ]
    },
    {
      "cell_type": "code",
      "execution_count": null,
      "metadata": {
        "colab": {
          "base_uri": "https://localhost:8080/"
        },
        "id": "TGbj0yIiT-Kk",
        "outputId": "76099624-90ee-4c10-a4ee-cfe311485100"
      },
      "outputs": [
        {
          "output_type": "stream",
          "name": "stdout",
          "text": [
            "[0.6772696467379433, 0.21543052931344397, 0.10329638007328237]\n",
            "Optimal Solution: [0.6772696467379433, 0.21543052931344397, 0.10329638007328237]\n",
            "Optimal Fitness: -1103800.6816137782\n"
          ]
        }
      ],
      "source": [
        "import random\n",
        "import numpy as np\n",
        "# Example usage\n",
        "population_size = 25\n",
        "generations = 50\n",
        "mutation_rate = 0.3\n",
        "max_fitness_list=[]\n",
        "avg_fitness_list=[]\n",
        "circles_list = []\n",
        "\n",
        "def generate_individual():\n",
        "    x = random.uniform(0.05, 0.95)\n",
        "    y = random.uniform(0.05, sqrt(1-x**2))\n",
        "    r_min=0.05\n",
        "    r_max=min(x, y, sqrt(1-y**2)-x, sqrt(1-x**2)-y)\n",
        "    r = random.uniform(r_min, r_max)\n",
        "    return [x, y, r]\n",
        "\n",
        "def custom_fitness(x, y, r):\n",
        "    circle = [x,y,r]\n",
        "    #print(circle)\n",
        "    ans = heat_implicit_test (circle)\n",
        "    return  -ans #(x**2 + y**2 + r**2)\n",
        "\n",
        "def crossover(parent1, parent2):\n",
        "    child = [random.choice([parent1[i], parent2[i]]) for i in range(3)]\n",
        "    return child\n",
        "\n",
        "def mutate(individual, mutation_rate):\n",
        "    for i in range(3):\n",
        "        if random.random() < mutation_rate:\n",
        "            print(\"^---- Mutation occured in this generation\")\n",
        "            individual[i] += random.uniform(-0.02, 0.02)  # Small random change\n",
        "            if(i==0):\n",
        "                individual[i]=np.clip(individual[i], 0.05, 0.95)\n",
        "            elif(i==1):\n",
        "                individual[i]=np.clip(individual[i],0.05, sqrt(1-individual[0]**2))\n",
        "            else:\n",
        "                x=individual[0]\n",
        "                y = individual[1]\n",
        "                r_min=0.05\n",
        "                r_max=min(x, y, sqrt(1-y**2)-x, sqrt(1-x**2)-y)-0.05\n",
        "                individual[i]=np.clip(individual[i],r_min,r_max)\n",
        "\n",
        "    return individual\n",
        "\n",
        "def genetic_algorithm(population_size, generations, mutation_rate):\n",
        "    population = [generate_individual() for _ in range(population_size)]\n",
        "    for generation in range(generations):\n",
        "        print(generation)\n",
        "        population = sorted(population, key=lambda ind: custom_fitness(*ind), reverse=True)\n",
        "\n",
        "        # Print average and maximum fitness for each generation\n",
        "        avg_fitness = sum(custom_fitness(*ind) for ind in population) / population_size\n",
        "\n",
        "        max_fitness = custom_fitness(*population[0])\n",
        "        avg_fitness_list.append(avg_fitness)\n",
        "        max_fitness_list.append(max_fitness)\n",
        "        circles_list.append(population[0])\n",
        "\n",
        "        parents = population[:2]\n",
        "        child = crossover(parents[0], parents[1])\n",
        "        child = mutate(child, mutation_rate)\n",
        "\n",
        "        population[-1] = child\n",
        "\n",
        "    # Return the fittest individual\n",
        "    return max(population, key=lambda ind: custom_fitness(*ind))\n",
        "\n",
        "result = genetic_algorithm(population_size, generations, mutation_rate)\n",
        "clear_output()\n",
        "print(result)\n",
        "print(\"Optimal Solution:\", result)\n",
        "print(\"Optimal Fitness:\", custom_fitness(*result))"
      ]
    },
    {
      "cell_type": "markdown",
      "metadata": {
        "id": "_h9NQ5goqoxg"
      },
      "source": [
        "##Here on plots of GA fitness"
      ]
    },
    {
      "cell_type": "code",
      "execution_count": null,
      "metadata": {
        "colab": {
          "base_uri": "https://localhost:8080/"
        },
        "id": "4i0JgkEjfXnD",
        "outputId": "81a76566-3cac-4006-b3fc-bfa3522479a9"
      },
      "outputs": [
        {
          "output_type": "display_data",
          "data": {
            "text/plain": [
              "<Figure size 640x480 with 1 Axes>"
            ],
            "image/png": "[encoded data removed]"
          },
          "metadata": {}
        }
      ],
      "source": [
        "import matplotlib.pyplot as plt\n",
        "import numpy as np\n",
        "\n",
        "# Generate y1 and y2 values (replace these with your actual data)\n",
        "y1 = max_fitness_list\n",
        "\n",
        "# Generate x values using np.arange\n",
        "x = np.arange(0, len(y1))\n",
        "x = [x_ * 10 for x_ in x]\n",
        "\n",
        "# Plot the data\n",
        "plt.plot(x, y1, label='y1')  # Line for y1\n",
        "\n",
        "# Add labels and title\n",
        "plt.xlabel('Generations')\n",
        "plt.ylabel('Max Fitness')\n",
        "plt.title('Max Fitness with generations')\n",
        "\n",
        "# Show the plot\n",
        "plt.show()"
      ]
    },
    {
      "cell_type": "code",
      "execution_count": null,
      "metadata": {
        "colab": {
          "base_uri": "https://localhost:8080/",
          "height": 472
        },
        "id": "znX6oy1cgS5m",
        "outputId": "b2ab7660-6556-4a4e-8af1-bdb931e4dc47"
      },
      "outputs": [
        {
          "output_type": "display_data",
          "data": {
            "text/plain": [
              "<Figure size 640x480 with 1 Axes>"
            ],
            "image/png": "[encoded data removed]"
          },
          "metadata": {}
        }
      ],
      "source": [
        "import matplotlib.pyplot as plt\n",
        "import numpy as np\n",
        "\n",
        "# Generate y1 and y2 values (replac e these with your actual data)\n",
        "y1 = avg_fitness_list\n",
        "\n",
        "# Generate x values using np.arange\n",
        "x = np.arange(0, len(y1))\n",
        "x = [x_ * 10 for x_ in x]\n",
        "\n",
        "# Plot the data\n",
        "plt.plot(x, y1, label='y1')  # Line for y1\n",
        "\n",
        "\n",
        "# Add labels and title\n",
        "plt.xlabel('Generations')\n",
        "plt.ylabel('Avg Fitness')\n",
        "plt.title('Avg Fitness with generations')\n",
        "\n",
        "# Show the plot\n",
        "plt.show()"
      ]
    },
    {
      "cell_type": "code",
      "execution_count": null,
      "metadata": {
        "colab": {
          "base_uri": "https://localhost:8080/",
          "height": 449
        },
        "id": "C1bU6_N3Pocj",
        "outputId": "cb4b980e-73ee-4fce-e834-337ff9db8949"
      },
      "outputs": [
        {
          "output_type": "display_data",
          "data": {
            "text/plain": [
              "<Figure size 640x480 with 1 Axes>"
            ],
            "image/png": "[encoded data removed]"
          },
          "metadata": {}
        }
      ],
      "source": [
        "import matplotlib.pyplot as plt\n",
        "\n",
        "# Assuming u is a list of tuples with x, y, z values\n",
        "u = circles_list\n",
        "\n",
        "# Extracting x, y, z values\n",
        "x_values = np.array([point[0] for point in u])\n",
        "y_values = np.array([point[1] for point in u])\n",
        "z_values = np.array([point[2] for point in u])\n",
        "\n",
        "\n",
        "# Generating positions in the list for X-axis\n",
        "positions = list(range(1, len(u) + 1))\n",
        "positions = [x * 10 for x in positions]\n",
        "\n",
        "# Plotting the line plot\n",
        "plt.plot(positions, x_values, label='X')\n",
        "plt.plot(positions, y_values, label='Y')\n",
        "plt.plot(positions, z_values, label='R')\n",
        "\n",
        "# Adding labels and legend\n",
        "plt.xlabel('Iteration')\n",
        "plt.ylabel('Values')\n",
        "plt.legend()\n",
        "\n",
        "# Displaying the plot\n",
        "plt.show()"
      ]
    },
    {
      "cell_type": "code",
      "execution_count": null,
      "metadata": {
        "id": "_UGJZufOfJ_E"
      },
      "outputs": [],
      "source": [
        "#Optimal Solution: [0.5703969581679545, 0.9, 0.3358924382356333]\n",
        "#[0.4831689586021894, 0.7071439300022424, 0.2170796503421622]"
      ]
    },
    {
      "cell_type": "code",
      "execution_count": null,
      "metadata": {
        "id": "f9TdqDmy-nir"
      },
      "outputs": [],
      "source": []
    }
  ],
  "metadata": {
    "colab": {
      "provenance": [],
      "authorship_tag": "ABX9TyPMBgOWy9PpE6Q8jMqJLI7K",
      "include_colab_link": true
    },
    "kernelspec": {
      "display_name": "Python 3",
      "name": "python3"
    },
    "language_info": {
      "name": "python"
    }
  },
  "nbformat": 4,
  "nbformat_minor": 0
}
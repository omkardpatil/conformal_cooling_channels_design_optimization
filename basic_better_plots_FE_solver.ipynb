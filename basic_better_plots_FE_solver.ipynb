{
  "nbformat": 4,
  "nbformat_minor": 0,
  "metadata": {
    "colab": {
      "provenance": [],
      "authorship_tag": "ABX9TyPHhljKZbWZagY+vQuQPuT1",
      "include_colab_link": true
    },
    "kernelspec": {
      "name": "python3",
      "display_name": "Python 3"
    },
    "language_info": {
      "name": "python"
    }
  },
  "cells": [
    {
      "cell_type": "markdown",
      "metadata": {
        "id": "view-in-github",
        "colab_type": "text"
      },
      "source": [
        "<a href=\"https://colab.research.google.com/github/omkardpatil/conformal_cooling_channels_design_optimization/blob/main/basic_better_plots_FE_solver.ipynb\" target=\"_parent\"><img src=\"https://colab.research.google.com/assets/colab-badge.svg\" alt=\"Open In Colab\"/></a>"
      ]
    },
    {
      "cell_type": "code",
      "source": [
        "from IPython.display import clear_output\n",
        "try:\n",
        "    import dolfin\n",
        "except ImportError:\n",
        "    !wget \"https://fem-on-colab.github.io/releases/fenics-install.sh\" -O \"/tmp/fenics-install.sh\" && bash \"/tmp/fenics-install.sh\"\n",
        "    import dolfin\n",
        "import fenics\n",
        "clear_output()"
      ],
      "metadata": {
        "id": "ovuSJB6Ayx2Q"
      },
      "execution_count": null,
      "outputs": []
    },
    {
      "cell_type": "code",
      "source": [
        "from fenics import *\n",
        "from mshr import *\n",
        "from math import *\n",
        "import os\n",
        "import numpy as np\n",
        "import time\n",
        "import matplotlib.pyplot as plt\n",
        "from matplotlib.colors import SymLogNorm\n",
        "\n",
        "\n",
        "temp_threshold_for_fitness=35\n",
        "temp_threshold_for_stopping=35\n",
        "t0=1 #time for which hot plastic will be in contact\n",
        "#  Define time things\n",
        "t_init = 0.0\n",
        "t_final = 3.0\n",
        "t_num = 90\n",
        "mesh_res=20\n",
        "\n",
        "u_origin=[]\n",
        "\n",
        "\n",
        "def work(mesh, u, to_print):\n",
        "  # Define your mesh and function space\n",
        "\n",
        "  V = FunctionSpace ( mesh, \"Lagrange\", 1 )\n",
        "\n",
        "  # Create a function to interpolate 'u' to the function space\n",
        "  u_interpolated = interpolate(u, V)\n",
        "\n",
        "  # Get the values of 'u' at all nodes\n",
        "  u_values = u_interpolated.vector().get_local()\n",
        "  np_u = np.array(u_values)\n",
        "  # Use np.ceil to round up each element to the nearest integer\n",
        "  integer_array = np.ceil(np_u).astype(int)\n",
        "  unique_elements, counts = np.unique(integer_array, return_counts=True)\n",
        "  element_count_dict = dict(zip(unique_elements, counts))\n",
        "  fitness=0\n",
        "  for i, j in element_count_dict.items():\n",
        "      r=i-temp_threshold_for_fitness\n",
        "      if(r>0):\n",
        "          fitness+=(j*j*r)\n",
        "  if(to_print):\n",
        "    print(\"Fitness value : \", fitness)\n",
        "  return fitness\n",
        "\n",
        "\n",
        "def heat_implicit (circle,save_file, to_print, store_u_origin, folder_name):\n",
        "  circle_x,circle_y,circle_r = circle\n",
        "  if not os.path.exists(folder_name):\n",
        "    os.makedirs(folder_name)\n",
        "\n",
        "\n",
        "\n",
        "  domain = Rectangle(Point(-1.0,-1.0), Point(1.,1.)) \\\n",
        "        - Circle(Point(circle_x,circle_y),circle_r)\n",
        "  mesh = generate_mesh ( domain, mesh_res )\n",
        "\n",
        "  plot ( mesh, title = 'heat_implicit Mesh' )\n",
        "  if(save_file):\n",
        "    filename =  folder_name+'heat_implicit_mesh.png'\n",
        "    plt.savefig ( filename )\n",
        "    print('Graphics saved as \"%s\"' % ( filename ) )\n",
        "    plt.close ()\n",
        "\n",
        "  V = FunctionSpace ( mesh, \"Lagrange\", 1 )\n",
        "\n",
        "  rect_u = 150.0\n",
        "  def rect_on ( x, on_boundary ):\n",
        "    return ( on_boundary and near(x[1],1))\n",
        "\n",
        "  rect_bc = DirichletBC ( V, rect_u, rect_on )\n",
        "\n",
        "  circle_u = 20.0\n",
        "  def circle_on ( x, on_boundary ):\n",
        "    r = sqrt ( ( x[0] - circle_x ) ** 2 + ( x[1] - circle_y ) ** 2 )\n",
        "    return ( on_boundary and ( r < circle_r * 1.1 ) )\n",
        "  circle_bc = DirichletBC ( V, circle_u, circle_on )\n",
        "  bc = [ rect_bc, circle_bc ]\n",
        "  bc_new = [circle_bc]\n",
        "\n",
        "#  Define the trial functions (u) and test functions (v).\n",
        "  u = TrialFunction ( V )\n",
        "  v = TestFunction ( V )\n",
        "\n",
        "\n",
        "#  The diffusivity is a constant.\n",
        "  k = Constant ( 1.0 )\n",
        "#  The source term is zero.\n",
        "  f = Constant ( 0.0 )\n",
        "  dt = ( t_final - t_init ) / t_num\n",
        "\n",
        "#  Create U_INIT.\n",
        "  u_init = Expression ( \"40.0\", degree = 10 )\n",
        "  u_old = interpolate ( u_init, V )\n",
        "  fvt = ( u_old + dt * f ) * v * dx\n",
        "  Auvt = u * v * dx + dt * dot ( grad(u), grad(v) ) * dx\n",
        "  u = Function ( V )\n",
        "  t = t_init\n",
        "\n",
        "  v_min=20\n",
        "  v_max=150\n",
        "  for j in range ( 0, t_num + 1):\n",
        "    if ( j % 2 == 0 ):\n",
        "      label = 'Time = %g' % ( t )\n",
        "      if(save_file):#########################################################################################################\n",
        "        min_value = circle_u\n",
        "        max_value = rect_u\n",
        "        mappable = plot( u_old, title = label ,cmap='viridis', norm=SymLogNorm(linthresh=0.03, linscale=0.03, vmin=v_min, vmax=v_max))\n",
        "        cbar = plt.colorbar(mappable)\n",
        "        filename = folder_name+'heat_implicit_solution_%d.png' % ( j )\n",
        "        plt.savefig ( filename )\n",
        "        print ( '  Graphics saved as \"%s\"' % ( filename ) )\n",
        "      else:\n",
        "        plot ( u_old, title = label )\n",
        "      if(store_u_origin):\n",
        "        u_origin.append(u(0.0,0.0))\n",
        "      plt.close()\n",
        "    t = t + dt\n",
        "    if(t>t0):\n",
        "      bc=bc_new\n",
        "    solve ( Auvt == fvt, u, bc )\n",
        "\n",
        "    u_old.assign ( u )\n",
        "    max_value = u.vector().max()\n",
        "    if(max_value<temp_threshold_for_stopping):\n",
        "      if(to_print):\n",
        "        print(\"Time required for cooling : \", t)\n",
        "      fitness1 = work(mesh, u, to_print)\n",
        "      fitness2 = exp(3)\n",
        "      return fitness1*fitness2, u_old, mesh\n",
        "  if(to_print):\n",
        "      print(\"Time required for cooling : \", t)\n",
        "  fitness1 = work(mesh, u, to_print)\n",
        "  fitness2 = exp(3)\n",
        "  return fitness1*fitness2, u_old, mesh\n",
        "\n",
        "def heat_implicit_test (circle,save_file, to_print, store_u_origin, folder_name):\n",
        "  level = 30\n",
        "  set_log_level ( level )\n",
        "  return heat_implicit(circle,save_file, to_print, store_u_origin, folder_name)\n",
        "clear_output()"
      ],
      "metadata": {
        "id": "g7-DpnVCE4KB"
      },
      "execution_count": null,
      "outputs": []
    },
    {
      "cell_type": "code",
      "source": [
        "Optimal_Solution=[0.9, 0.9, 0.05]\n",
        "circle = Optimal_Solution\n",
        "folder_name='results3/'\n",
        "ans, u_stored, mesh_stored = heat_implicit_test (circle, save_file=True, to_print = True, store_u_origin=True, folder_name=folder_name)\n",
        "clear_output()"
      ],
      "metadata": {
        "id": "tFGda2BeKN12"
      },
      "execution_count": null,
      "outputs": []
    },
    {
      "cell_type": "code",
      "source": [
        "import matplotlib.pyplot as plt\n",
        "import numpy as np\n",
        "\n",
        "y1 = u_origin\n",
        "x = np.arange(0, len(y1))\n",
        "plt.plot(x, y1, label='y1')  # Line for y1\n",
        "plt.xlabel('time')\n",
        "plt.ylabel('Temp(0,0)')\n",
        "plt.title('Temp vs time')\n",
        "plt.show()"
      ],
      "metadata": {
        "colab": {
          "base_uri": "https://localhost:8080/",
          "height": 472
        },
        "id": "P1WKTLJSE4vi",
        "outputId": "6009b852-ef3a-4b4e-f986-443b764d96ff"
      },
      "execution_count": null,
      "outputs": [
        {
          "output_type": "display_data",
          "data": {
            "text/plain": [
              "<Figure size 640x480 with 1 Axes>"
            ],
            "image/png": "[encoded data removed]"
          },
          "metadata": {}
        }
      ]
    },
    {
      "cell_type": "code",
      "source": [
        "!zip -r /content/myfolder3.zip /content/results3\n",
        "clear_output()"
      ],
      "metadata": {
        "id": "278MPeyOKo98"
      },
      "execution_count": null,
      "outputs": []
    },
    {
      "cell_type": "code",
      "source": [],
      "metadata": {
        "id": "SW-OS2tRE0cV"
      },
      "execution_count": null,
      "outputs": []
    }
  ]
}